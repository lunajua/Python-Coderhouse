{
  "nbformat": 4,
  "nbformat_minor": 0,
  "metadata": {
    "colab": {
      "provenance": [],
      "authorship_tag": "ABX9TyOFNoETlLPzei3oye2KUA+Y",
      "include_colab_link": true
    },
    "kernelspec": {
      "name": "python3",
      "display_name": "Python 3"
    },
    "language_info": {
      "name": "python"
    }
  },
  "cells": [
    {
      "cell_type": "markdown",
      "metadata": {
        "id": "view-in-github",
        "colab_type": "text"
      },
      "source": [
        "<a href=\"https://colab.research.google.com/github/lunajua/Python-Coderhouse/blob/main/Funciones_II.ipynb\" target=\"_parent\"><img src=\"https://colab.research.google.com/assets/colab-badge.svg\" alt=\"Open In Colab\"/></a>"
      ]
    },
    {
      "cell_type": "markdown",
      "source": [
        "Conversaciones - tipos de datos\n",
        "\n",
        "Descripción de la actividad.\n",
        "\n",
        "Realiza una función que, dependiendo de los parámetros que reciba, convierta a milímetros o a\n",
        "metros.\n",
        "\n",
        "1- Si recibe un argumento, supone que son milímetros y convierte a metros, centímetros y\n",
        "milímetros.\n",
        "\n",
        "2- Si recibe 3 argumentos, supone que son metros, centímetros y milímetros y los convierte a\n",
        "milímetros."
      ],
      "metadata": {
        "id": "66-UHI_mKPvf"
      }
    },
    {
      "cell_type": "code",
      "execution_count": 22,
      "metadata": {
        "colab": {
          "base_uri": "https://localhost:8080/"
        },
        "id": "-nLelhsBChLu",
        "outputId": "05a68f1c-9373-44dc-846d-a5e53220aa16"
      },
      "outputs": [
        {
          "output_type": "stream",
          "name": "stdout",
          "text": [
            "1500\n"
          ]
        }
      ],
      "source": [
        "def conversion_datos(*datos):\n",
        "    if len(datos) == 1:\n",
        "        milimetros = datos[0]\n",
        "        centimetros = milimetros /10\n",
        "        metros = milimetros /1000\n",
        "        return metros, centimetros, milimetros\n",
        "    elif len(datos) == 3:\n",
        "        metros, centimetros, milimetros = datos\n",
        "        total_milimetros = (metros*1000) + (centimetros *10) + milimetros\n",
        "        return total_milimetros\n",
        "    else:\n",
        "        print(\"Número incorrecto de argumentos\")\n",
        "\n",
        "print(conversion_datos(1, 20, 300))\n",
        "\n",
        "\n",
        "\n",
        "\n",
        "\n",
        "\n",
        "\n",
        "\n",
        "\n"
      ]
    },
    {
      "cell_type": "code",
      "source": [
        "def menu():\n",
        "    flag = True\n",
        "    while flag:\n",
        "        print(\"Menu de Opciones\")\n",
        "        print(\n",
        "        \"\"\"\n",
        "        1. Convertir de milimetros a metros-centimetros-milimetros\n",
        "        2. Convertir de metros-centimetros-milimetros a milimetros\n",
        "        3. Salir\n",
        "        \"\"\")\n",
        "        valor = int(input(\"Ingrese una opción por favor: \"))\n",
        "        if valor == 1:\n",
        "            usuario = float(input(\"Ingrese un argumento por favor: \"))\n",
        "            metros, centimetros, milimetros = conversion_datos(usuario)\n",
        "            print(f\"{usuario} milimetros son {metros} metros, {centimetros} centimetros y {milimetros} milimetros.\")\n",
        "        elif valor == 2:\n",
        "            metros = float(input(\"Ingrese metros: \"))\n",
        "            centimetros = float(input(\"Ingrese centimetros: \"))\n",
        "            milimetros = float(input(\"Ingrese milimetros: \"))\n",
        "            total_milimetros = conversion_datos(metros, centimetros, milimetros)\n",
        "            print(f\"{metros} metros, {centimetros} centimetros y {milimetros} milimetros son {total_milimetros} milimetros.\")\n",
        "        elif valor == 3:\n",
        "            flag = False\n",
        "        else:\n",
        "            print(\"Opción no válida. Por favor, intente de nuevo.\")\n",
        "\n",
        "menu()"
      ],
      "metadata": {
        "id": "V3uosN0URkWt"
      },
      "execution_count": null,
      "outputs": []
    },
    {
      "cell_type": "markdown",
      "source": [
        "Realiza una función llamada area_rectangulo() que devuelva el área del rectángulo a partir\n",
        "de una base y una altura.\n",
        "\n",
        "Calcula el área de un rectángulo de 15 de base y 10 de altura"
      ],
      "metadata": {
        "id": "-ggoNhi0ThOX"
      }
    },
    {
      "cell_type": "code",
      "source": [
        "#Ejercicio Nro 1\n",
        "\n",
        "def area_rectangulo(base, altura):\n",
        "  area = base * altura\n",
        "  return area\n",
        "\n",
        "print(area_rectangulo(10, 15))"
      ],
      "metadata": {
        "id": "zOJN5DAQTfRH"
      },
      "execution_count": null,
      "outputs": []
    },
    {
      "cell_type": "markdown",
      "source": [
        "Realiza una función llamada area_circulo() que devuelva el área de un círculo a partir de un\n",
        "radio.\n",
        "\n",
        "Calcula el área de un círculo de 5 de radio"
      ],
      "metadata": {
        "id": "9njF61iAT5ms"
      }
    },
    {
      "cell_type": "code",
      "source": [
        "#Ejercicio Nro2\n",
        "import math\n",
        "\n",
        "def area_circulo(radio):\n",
        "  return math.pi * radio**2\n",
        "\n",
        "print(round(area_circulo(5), 2))\n"
      ],
      "metadata": {
        "colab": {
          "base_uri": "https://localhost:8080/"
        },
        "id": "pQtrlq9PUCwb",
        "outputId": "adb91b70-eabc-4e9c-d95e-eb7e3d5e7595"
      },
      "execution_count": 30,
      "outputs": [
        {
          "output_type": "stream",
          "name": "stdout",
          "text": [
            "78.54\n"
          ]
        }
      ]
    },
    {
      "cell_type": "markdown",
      "source": [
        "Realiza una función llamada relacion() que a partir de dos números cumpla lo siguiente:\n",
        "\n",
        "✓ Si el primer número es mayor que el segundo, debe devolver 1.\n",
        "\n",
        "✓ Si el primer número es menor que el segundo, debe devolver -1.\n",
        "\n",
        "✓ Si ambos números son iguales, debe devolver un 0.\n",
        "\n",
        "Comprueba la relación entre los números: '5 y 10', '10 y 5' y '5 y 5'"
      ],
      "metadata": {
        "id": "Jq81A5MyVVvU"
      }
    },
    {
      "cell_type": "code",
      "source": [
        "#Ejercicio Nro 3\n",
        "\n",
        "def relacion(num1, num2):\n",
        "    if num1 > num2:\n",
        "        return 1\n",
        "    elif num1 < num2:\n",
        "        return -1\n",
        "    else:\n",
        "        return 0\n",
        "\n",
        "print(relacion(5, 10))\n",
        "print(relacion(10, 5))\n",
        "print(relacion(5, 5))"
      ],
      "metadata": {
        "id": "j1O_lxdbVjKB"
      },
      "execution_count": null,
      "outputs": []
    },
    {
      "cell_type": "markdown",
      "source": [
        "Realiza una función llamada intermedio() que, a partir de dos números, devuelva su punto\n",
        "intermedio:\n",
        "\n",
        "🖐 Ayuda: El número intermedio de dos números corresponde a la suma de los dos\n",
        "números dividida entre 2\n",
        "\n",
        "Comprueba el punto intermedio entre -12 y 24"
      ],
      "metadata": {
        "id": "qwphVfnkV480"
      }
    },
    {
      "cell_type": "code",
      "source": [
        "# Ejercicio Nro 4\n",
        "\n",
        "def intermedio(x1, x2):\n",
        "  return (x1 + x2) / 2\n",
        "\n",
        "print(intermedio(-12, 24))\n"
      ],
      "metadata": {
        "id": "97yiDBS3V__7"
      },
      "execution_count": null,
      "outputs": []
    },
    {
      "cell_type": "markdown",
      "source": [
        "Realiza una función llamada recortar() que reciba tres parámetros. El primero es el número\n",
        "a recortar, el segundo es el límite inferior y el tercero el límite superior. La función tendrá\n",
        "que cumplir lo siguiente:\n",
        "\n",
        "✓ Devolver el límite inferior si el número es menor que éste.\n",
        "\n",
        "✓ Devolver el límite superior si el número es mayor que éste.\n",
        "\n",
        "✓ Devolver el número sin cambios si no se supera ningún límite.\n",
        "\n",
        "✓ Comprueba el resultado de recortar 15 entre los límites 0 y 10"
      ],
      "metadata": {
        "id": "PzsQ3WU5WWIo"
      }
    },
    {
      "cell_type": "code",
      "source": [
        "# Ejercicio Nro 5:\n",
        "\n",
        "def recortar(n, minimo, maximo):\n",
        "  if n < minimo:\n",
        "    return minimo\n",
        "  elif n > maximo:\n",
        "    return maximo\n",
        "  else:\n",
        "    return n\n",
        "\n",
        "print(recortar(15, 0, 10))\n"
      ],
      "metadata": {
        "id": "mrhLolBkWVL7"
      },
      "execution_count": null,
      "outputs": []
    },
    {
      "cell_type": "markdown",
      "source": [
        "Realiza una función separar() que tome una lista de números enteros y devuelva dos listas\n",
        "ordenadas. La primera con los números pares, y la segunda con los números impares:\n",
        "\n",
        "🖐 Ayuda: Para ordenar una lista automáticamente puedes usar el método .sort()"
      ],
      "metadata": {
        "id": "iN-VIUX7XPAD"
      }
    },
    {
      "cell_type": "code",
      "source": [
        "#Ejercicio Nro 6\n",
        "\n",
        "def separar(lista):\n",
        "  pares = []\n",
        "  impares = []\n",
        "  for numero in lista:\n",
        "    if numero % 2 == 0:\n",
        "      pares.append(numero)\n",
        "    else:\n",
        "      impares.append(numero)\n",
        "  pares.sort()\n",
        "  impares.sort()\n",
        "  return pares, impares"
      ],
      "metadata": {
        "id": "H-9A-6QUXcOK"
      },
      "execution_count": 34,
      "outputs": []
    }
  ]
}