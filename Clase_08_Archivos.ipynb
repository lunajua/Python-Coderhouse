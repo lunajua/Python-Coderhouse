{
  "nbformat": 4,
  "nbformat_minor": 0,
  "metadata": {
    "colab": {
      "provenance": [],
      "include_colab_link": true
    },
    "kernelspec": {
      "name": "python3",
      "display_name": "Python 3"
    },
    "language_info": {
      "name": "python"
    }
  },
  "cells": [
    {
      "cell_type": "markdown",
      "metadata": {
        "id": "view-in-github",
        "colab_type": "text"
      },
      "source": [
        "<a href=\"https://colab.research.google.com/github/lunajua/Python-Coderhouse/blob/main/Clase_08_Archivos.ipynb\" target=\"_parent\"><img src=\"https://colab.research.google.com/assets/colab-badge.svg\" alt=\"Open In Colab\"/></a>"
      ]
    },
    {
      "cell_type": "markdown",
      "source": [
        "#Manejo de archivos en Python"
      ],
      "metadata": {
        "id": "krrThateV7D-"
      }
    },
    {
      "cell_type": "markdown",
      "source": [
        "## Configuración de espacio de trabajo\n",
        "Establecer conección con Drive y ubucarse en la carpeta de trabajo."
      ],
      "metadata": {
        "id": "WMxF5cHLKd-_"
      }
    },
    {
      "cell_type": "code",
      "execution_count": null,
      "metadata": {
        "colab": {
          "base_uri": "https://localhost:8080/"
        },
        "id": "2J3a963tDoFA",
        "outputId": "234e79e5-42cc-490a-cda2-28aa830e6db6"
      },
      "outputs": [
        {
          "output_type": "stream",
          "name": "stdout",
          "text": [
            "Mounted at /content/drive\n"
          ]
        }
      ],
      "source": [
        "from google.colab import drive\n",
        "drive.mount('/content/drive')"
      ]
    },
    {
      "cell_type": "code",
      "source": [
        "!ls"
      ],
      "metadata": {
        "id": "rfKpV9oOE83p",
        "colab": {
          "base_uri": "https://localhost:8080/"
        },
        "outputId": "c97a34ac-60a2-46d6-bc6e-b02a9710ab44"
      },
      "execution_count": null,
      "outputs": [
        {
          "output_type": "stream",
          "name": "stdout",
          "text": [
            "drive  sample_data\n"
          ]
        }
      ]
    },
    {
      "cell_type": "code",
      "source": [
        "%cd '/content/drive/MyDrive/coderhouse/class_8_files'\n",
        "!ls"
      ],
      "metadata": {
        "colab": {
          "base_uri": "https://localhost:8080/"
        },
        "id": "62lN_Ku4Jus_",
        "outputId": "698fd47a-e98a-4371-efc5-9f55bd8cd001"
      },
      "execution_count": null,
      "outputs": [
        {
          "output_type": "stream",
          "name": "stdout",
          "text": [
            "/content/drive/MyDrive/coderhouse/class_8_files\n"
          ]
        }
      ]
    },
    {
      "cell_type": "markdown",
      "source": [
        "## Escritura de archivos"
      ],
      "metadata": {
        "id": "bGMaK4reK0F4"
      }
    },
    {
      "cell_type": "code",
      "source": [
        "# Con la función \"open\" abrimos los archivos y si no existen los creamos.\n",
        "# Cuando usamos 'w': El modo es de escritura (write).\n",
        "# Cuando usamos 'r': El modo es de lectura (read) - NOTA: No crea un archivo si no existía con anterioridad.\n",
        "# Cuando usamos 'a': Modo para agregar contenido (append)\n",
        "\n",
        "# EJEMPLO 1\n",
        "# Crear archivos\n",
        "\n",
        "# Creamos una variable con el texto que vamos a introducir en el archivo\n",
        "texto = \"Buenas noches comisión de Python!\"\n",
        "\n",
        "# Intentamos abrir el archivo.txt, si no existe se creará\n",
        "file = open(\"./archivo.txt\", \"w\")\n",
        "\n",
        "# Agregamos texto al nuevo archivo\n",
        "file.write(texto)\n",
        "\n",
        "# Cerramos el archivo, no debemos olvidar este importante paso\n",
        "file.close()"
      ],
      "metadata": {
        "id": "yWViTaxCPNRi"
      },
      "execution_count": null,
      "outputs": []
    },
    {
      "cell_type": "code",
      "source": [
        "# EJEMPLO 2\n",
        "# Crear archivos\n",
        "# Podemos construír los strings que usamos para el archivo a partir del uso de variables.\n",
        "\n",
        "nombre = \"Nicolas\"\n",
        "apellido = \"Perez\"\n",
        "dni = 111111\n",
        "\n",
        "d = {\"NOMBRE\":nombre, \"APELLIDO\":apellido, \"DNI\":dni}\n",
        "\n",
        "f = open(\"./otro.txt\", \"w\")\n",
        "\n",
        "f.write(d[\"NOMBRE\"] + \",\" + d[\"APELLIDO\"] + \",\" + str(d[\"DNI\"] ))\n",
        "f.write(\"\\nPisando el archivo anterior\")\n",
        "\n",
        "f.close()"
      ],
      "metadata": {
        "id": "bqjFVLbHJLrk"
      },
      "execution_count": null,
      "outputs": []
    },
    {
      "cell_type": "markdown",
      "source": [
        "# Ejercicio"
      ],
      "metadata": {
        "id": "-uYmhrkDI5v8"
      }
    },
    {
      "cell_type": "markdown",
      "source": [
        "## Mis hobbies favoritos\n",
        "Crea un programa que pida por teclado (input) los datos de tus tres hobbies favoritos y los mismos se guarden en un archivo que se llame miHobbieFavorito.txt.\n",
        "\n",
        "EXTRA: Hacerlo con un for o un while para no repetir tanto…!!!"
      ],
      "metadata": {
        "id": "3PK-kigAU51S"
      }
    },
    {
      "cell_type": "code",
      "source": [
        "hobbies = \"\"\n",
        "\n",
        "for i in range(3):\n",
        "    hobbie = input(f\"Ingrese su hobbie número {i + 1}: \")\n",
        "    hobbies += \"Mi hobbie número %s es: %s\\n\" %(i + 1, hobbie)\n",
        "\n",
        "f = open(\"./hobbies.txt\", \"w\")\n",
        "f.write(hobbies)\n",
        "f.close()"
      ],
      "metadata": {
        "id": "WpZpFmFVWIND"
      },
      "execution_count": null,
      "outputs": []
    },
    {
      "cell_type": "markdown",
      "source": [
        "##Lectura de archivos"
      ],
      "metadata": {
        "id": "mmkBxGkjWGEA"
      }
    },
    {
      "cell_type": "code",
      "source": [
        "# EJEMPLO 3 - A\n",
        "# Leer archivos - read\n",
        "# Obtiene todo el texto del archivo como un string\n",
        "\n",
        "archivo = open(\"./otro.txt\", \"r\")\n",
        "contenido = archivo.read()\n",
        "archivo.close()\n",
        "\n",
        "print(contenido)\n",
        "print(type(contenido))"
      ],
      "metadata": {
        "id": "wAPpXL5jJSXg"
      },
      "execution_count": null,
      "outputs": []
    },
    {
      "cell_type": "code",
      "source": [
        "# EJEMPLO 3 - B\n",
        "# Leer archivos - readline\n",
        "# Lee la primer línea de código\n",
        "\n",
        "archivo = open(\"./otro.txt\", \"r\")\n",
        "contenido = archivo.readline()\n",
        "archivo.close()\n",
        "\n",
        "print(contenido)\n",
        "print(type(contenido))"
      ],
      "metadata": {
        "id": "Tn07Z7bHJe8_"
      },
      "execution_count": null,
      "outputs": []
    },
    {
      "cell_type": "code",
      "source": [
        "# EJEMPLO 3 - C\n",
        "# Leer archivos - readlines\n",
        "# Genera una lista donde cada elemento es un string que representa un renglón del archivo leído.\n",
        "\n",
        "archivo = open(\"./otro.txt\", \"r\")\n",
        "contenido = archivo.readlines()\n",
        "archivo.close()\n",
        "\n",
        "print(contenido)\n",
        "print(type(contenido))"
      ],
      "metadata": {
        "id": "4f4azQ7FJpke"
      },
      "execution_count": null,
      "outputs": []
    },
    {
      "cell_type": "code",
      "source": [
        "# EJEMPLO 4\n",
        "# Leer archivos - seek\n",
        "# Podemos ubicar el cursor en una ubicación específica del documento para indicar desde dónde vamos a leerlo.\n",
        "\n",
        "f = open(\"./otro.txt\", \"r\")\n",
        "\n",
        "f.seek(68)\n",
        "content = f.read()\n",
        "print(content)\n",
        "\n",
        "print(\"\\n\")\n",
        "\n",
        "f.seek(102)\n",
        "content = f.read().strip(\"*\")[:34]\n",
        "print(content)\n",
        "\n",
        "f.close()\n",
        "\n",
        "print(content)"
      ],
      "metadata": {
        "id": "3mbxNV8-J6to"
      },
      "execution_count": null,
      "outputs": []
    },
    {
      "cell_type": "code",
      "source": [
        "# EJEMPLO 5\n",
        "# Uso de with para la apertura de archivos\n",
        "# Más adelante vamos a ver las funciones especiales de Python o llamadas \"mágicas\".\n",
        "# El with lo que hace es llamar a 2 de ellas, donde una es usada para abrir un elemento (en\n",
        "    # este caso un archivo) y la otra lo cierra.\n",
        "# Entonces este \"with\" tiene la finalidad acortar código y evitar algún tipo de error\n",
        "    # como de olvidarse el close luego de abrir un archivo.\n",
        "\n",
        "with open(\"./mi_primer_with.txt\", 'w') as f:\n",
        "    f.write('this is my first line\\n')\n",
        "    f.write('1 2 3 4 5')"
      ],
      "metadata": {
        "id": "PfRcEE8DifD_"
      },
      "execution_count": null,
      "outputs": []
    },
    {
      "cell_type": "code",
      "source": [
        "# EJEMPLO 6\n",
        "# También podemos crear otro tipo de archivos que sea compatible con la estructura de \"sólo texto\".\n",
        "# Por ejemplo, con este mismo código que usamos para crear un archivo de texto (txt) podemos crear\n",
        "    # archivos tales como: csv, json, py, etc.\n",
        "# Por el contrario, no nos resulta útil para la creación de archivos que no comparten este tipo de\n",
        "    # extructuras de \"sólo texto\" como por ejemplo: jpg, png, xlsx, etc.\n",
        "# A continuación, creamos un archivo del tipo json\n",
        "\n",
        "# Importar las funciones de la librería json en la clase 15 entenderemos mejor el IMPORT\n",
        "import json\n",
        "\n",
        "data = {}\n",
        "\n",
        "data['clients'] = []\n",
        "\n",
        "data['clients'].append(\n",
        "    {\n",
        "        'first_name': 'Sigrid',\n",
        "        'last_name': 'Mannock',\n",
        "        'age': 27,\n",
        "        'amount': 7.17\n",
        "    }\n",
        ")\n",
        "\n",
        "data['clients'].append(\n",
        "    {\n",
        "        'first_name': 'Joe',\n",
        "        'last_name': 'Hinners',\n",
        "        'age': 31,\n",
        "        'amount': [1.90, 5.50]\n",
        "    }\n",
        ")\n",
        "\n",
        "data['clients'].append(\n",
        "    {\n",
        "        'first_name': 'Theodoric',\n",
        "        'last_name': 'Rivers',\n",
        "        'age': 36,\n",
        "        'amount': 1.11\n",
        "    }\n",
        ")\n",
        "\n",
        "# A continuación explicaremos el uso de \"with\"\n",
        "with open(\"./primerJson.json\", 'w') as file:\n",
        "    json.dump(data, file, indent=4)"
      ],
      "metadata": {
        "id": "EQpvKFkiK9zr"
      },
      "execution_count": null,
      "outputs": []
    },
    {
      "cell_type": "code",
      "source": [
        "# EJEMPLO 7\n",
        "# Uso de with y leemos un json\n",
        "import json\n",
        "with open(\"./primerJson.json\") as file:\n",
        "\n",
        "    dataLectura = json.load(file)\n",
        "\n",
        "    for client in dataLectura['clients']:\n",
        "        print('First name:', client['first_name'])\n",
        "        print('Last name:', client['last_name'])\n",
        "        print('Age:', client['age'])\n",
        "        print('Amount:', client['amount'])\n",
        "        print()"
      ],
      "metadata": {
        "id": "aip1AUtnjIzn"
      },
      "execution_count": null,
      "outputs": []
    },
    {
      "cell_type": "code",
      "source": [
        "# ADICIONAL\n",
        "with open(\"my_pet.txt\", \"w\") as f:\n",
        "  questions = {\n",
        "    \"What is the pet name?: \": None,\n",
        "    \"What kind of pet is?: \": None,\n",
        "    \"What is its age?: \": None,\n",
        "    \"What is its color?: \": None\n",
        "  }\n",
        "  for question in questions.keys():\n",
        "    input_value = input(question)\n",
        "    questions[question] = input_value\n",
        "    f.write(f'{question} {input_value}\\n')"
      ],
      "metadata": {
        "id": "pMrrWLrVa8bF"
      },
      "execution_count": null,
      "outputs": []
    },
    {
      "cell_type": "code",
      "source": [
        "# ADICIONAL\n",
        "# Como había mencionado antes, podemos crear archivos por ejemplo de Python, en este caso\n",
        "    # sólo agregamos 2 líneas de código pero podemos ver que se guardarán líneas\n",
        "    # válidas y por lo tanto luego podrá ejecutarse el contenido del archivo.\n",
        "\n",
        "f = open(\"./archivo.py\", \"w\")\n",
        "f.write(\"print('Hola comisión de Python!')\\n\")\n",
        "f.write(\"print('otro print')\")\n",
        "f.close()"
      ],
      "metadata": {
        "id": "Z0l17FmIOvdl"
      },
      "execution_count": null,
      "outputs": []
    }
  ]
}