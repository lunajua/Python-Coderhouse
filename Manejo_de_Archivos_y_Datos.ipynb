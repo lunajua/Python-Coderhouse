{
  "nbformat": 4,
  "nbformat_minor": 0,
  "metadata": {
    "colab": {
      "provenance": [],
      "mount_file_id": "1dKCKvy7UsVL7-QWl75CsBBvBtZ3YsNtC",
      "authorship_tag": "ABX9TyOkOAKsJZbnAEG1FOg/jeO7",
      "include_colab_link": true
    },
    "kernelspec": {
      "name": "python3",
      "display_name": "Python 3"
    },
    "language_info": {
      "name": "python"
    }
  },
  "cells": [
    {
      "cell_type": "markdown",
      "metadata": {
        "id": "view-in-github",
        "colab_type": "text"
      },
      "source": [
        "<a href=\"https://colab.research.google.com/github/lunajua/Python-Coderhouse/blob/main/Manejo_de_Archivos_y_Datos.ipynb\" target=\"_parent\"><img src=\"https://colab.research.google.com/assets/colab-badge.svg\" alt=\"Open In Colab\"/></a>"
      ]
    },
    {
      "cell_type": "markdown",
      "source": [
        "Crea un programa que pida por teclado (input)\n",
        "los datos de tus tres hobbies favoritos y los\n",
        "mismos se guarden en un archivo que se llame\n",
        "miHobbieFavorito.txt.\n",
        "\n",
        "EXTRA: Hacerlo con un for o un while para no\n",
        "repetir tanto…!!!"
      ],
      "metadata": {
        "id": "kQYlXnVSNkh5"
      }
    },
    {
      "cell_type": "code",
      "source": [
        "from google.colab import drive\n",
        "drive.mount('/content/drive')"
      ],
      "metadata": {
        "id": "Mt83kdCAWYll",
        "colab": {
          "base_uri": "https://localhost:8080/"
        },
        "outputId": "bd38eb01-52d1-4462-ab73-ebdb797329bb"
      },
      "execution_count": 1,
      "outputs": [
        {
          "output_type": "stream",
          "name": "stdout",
          "text": [
            "Drive already mounted at /content/drive; to attempt to forcibly remount, call drive.mount(\"/content/drive\", force_remount=True).\n"
          ]
        }
      ]
    },
    {
      "cell_type": "code",
      "execution_count": null,
      "metadata": {
        "id": "EmEOiM1foPcS"
      },
      "outputs": [],
      "source": [
        "\n",
        "ruta = '/content/drive/MyDrive/PythonCoderHouse'\n",
        "hobbies=[]\n",
        "for i in range(3):\n",
        "     n = input(\"Introduce tú hobby favorito {}: \".format(i+1))\n",
        "     hobbies.append(n)\n",
        "with open(\"/content/drive/MyDrive/PythonCoderHouse/misHobbie.txt\", \"w\") as f:\n",
        "    for hobbie in hobbies:\n",
        "        f.write(hobbie + \"\\n\")\n",
        "\n",
        "\n",
        "\n",
        "\n"
      ]
    }
  ]
}